{
 "cells": [
  {
   "cell_type": "code",
   "execution_count": 16,
   "id": "b6ff5faf-036c-4aa1-a64d-e8329206ef61",
   "metadata": {},
   "outputs": [],
   "source": [
    "# Set up service for chrome \n",
    "from selenium import webdriver\n",
    "from selenium.webdriver.chrome.options import Options\n",
    "from selenium.webdriver.chrome.service import Service\n",
    "from selenium.webdriver.common.by import By\n",
    "\n",
    "\n",
    "chrome_options = Options()\n",
    "chrome_options.add_argument(\"--start-maximized\")\n",
    "chrome_options.add_argument(\"--no-sandbox\")\n",
    "chrome_options.add_argument(\"--disable-dev-shm-usage\")\n",
    "\n",
    "# Optionally, customize window size (overrides maximization)\n",
    "chrome_options.add_argument(\"--window-size=500,500\")  # Set width and height\n",
    "\n",
    "chrome_service = Service(executable_path = 'E:\\\\4.Python\\\\5. Selenium\\\\Sel_Project\\\\Crawl_Data_With_Python\\\\chromedriver.exe')\n",
    "\n",
    " \n",
    "driver = webdriver.Chrome(service=chrome_service, options=chrome_options)\n",
    "\n",
    "\n",
    "# open web page want to drawl\n",
    "driver.get('https://www.facebook.com/')\n",
    "\n",
    "# Tìm phần tử là 1 search input\n",
    "#element = driver.find_element(By.CSS_SELECTOR, '.gLFyf')\n",
    "#driver.quit()\n",
    " \n",
    "\n",
    "\n",
    "\n",
    "\n",
    "\n",
    "\n",
    "\n",
    "\n",
    "\n",
    "\n"
   ]
  },
  {
   "cell_type": "code",
   "execution_count": null,
   "id": "6796fd77-5dc1-4c36-a031-ecc3bd800dad",
   "metadata": {},
   "outputs": [],
   "source": []
  }
 ],
 "metadata": {
  "kernelspec": {
   "display_name": "Python 3 (ipykernel)",
   "language": "python",
   "name": "python3"
  },
  "language_info": {
   "codemirror_mode": {
    "name": "ipython",
    "version": 3
   },
   "file_extension": ".py",
   "mimetype": "text/x-python",
   "name": "python",
   "nbconvert_exporter": "python",
   "pygments_lexer": "ipython3",
   "version": "3.12.6"
  }
 },
 "nbformat": 4,
 "nbformat_minor": 5
}
